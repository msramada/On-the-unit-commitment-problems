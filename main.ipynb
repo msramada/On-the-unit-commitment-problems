{
 "cells": [
  {
   "cell_type": "markdown",
   "metadata": {},
   "source": [
    "### On the unit commitment problem\n",
    "This notebook contains the dynamic programming solution to a 2-unit commitment problem."
   ]
  },
  {
   "cell_type": "markdown",
   "metadata": {},
   "source": [
    "The notation, state transition dynamics and cost, follow that in:\n",
    "\n",
    "``Lauer, G.S., Sandell, N.R., Bertsekas, D.P. and Posbergh, T.A., 1982. Solution of large-scale optimal unit commitment problems. IEEE Transactions on Power Apparatus and Systems, (1), pp.79-86.''"
   ]
  },
  {
   "cell_type": "code",
   "execution_count": 1,
   "metadata": {},
   "outputs": [],
   "source": [
    "# Loading used packages\n",
    "using Plots, LaTeXStrings"
   ]
  },
  {
   "cell_type": "markdown",
   "metadata": {},
   "source": [
    "We first define the state transition dynamics, as defined in Fig. 1 in the above reference."
   ]
  },
  {
   "cell_type": "code",
   "execution_count": null,
   "metadata": {},
   "outputs": [],
   "source": [
    "function state_transition(state::Int, action::Int)\n",
    "    stateVec = zeros(Int, 11,)\n",
    "    stateVec[state] = 1\n",
    "    # We define the state transition matrix P\n",
    "    P = zeros(Int, 11, 11)\n",
    "    if action == 0\n",
    "    P[[\n",
    "    CartesianIndex(1,4), \n",
    "    CartesianIndex(2,1),    CartesianIndex(3,2),    CartesianIndex(4,5),    \n",
    "    CartesianIndex(5,6),    CartesianIndex(6,7),    CartesianIndex(7,8),\n",
    "    CartesianIndex(8,9),    CartesianIndex(9,10),\n",
    "    CartesianIndex(10,11),    CartesianIndex(11,11)]] .= 1\n",
    "\n",
    "    elseif action >= 1\n",
    "    P[[\n",
    "    CartesianIndex(1,1),    CartesianIndex(2,1),    CartesianIndex(3,2),\n",
    "    CartesianIndex(4,5),    CartesianIndex(5,6),    CartesianIndex(6,7),\n",
    "    CartesianIndex(7,3),    CartesianIndex(8,3),    CartesianIndex(9,3),\n",
    "    CartesianIndex(10,3),    CartesianIndex(11,3)]] .= 1\n",
    "    end\n",
    "    return findfirst(==(1), P' * stateVec)\n",
    "\n",
    "end"
   ]
  },
  {
   "cell_type": "markdown",
   "metadata": {},
   "source": [
    "We have 11 states according to the figure, the states {1,2,3} correspond to the up states, and {4,...,11} are the down states. The states are ordered top to bottom as in Fig. 1.\n",
    "\n",
    "The control action takes the value 0 when shutting down, and the values {1,...,GridSize} when starting up.\n",
    "\n",
    "The reason of multiple values of action for the starting up is to determine the output power of the unit while running. The value 1 corresponds to the unit being running but with the lowest output power $\\underline g_i$ (g_min in code) and GridSize to the maximum output $\\bar g_i$ (g_max in code). G_grid is the number of grid points when we discretize the output power $g_i^t \\in [\\underline g_i,\\bar g_i]$."
   ]
  },
  {
   "cell_type": "code",
   "execution_count": 4,
   "metadata": {},
   "outputs": [],
   "source": [
    "GridSize = 20\n",
    "g_min = 1\n",
    "g_max = 2\n",
    "OutPowerGrid = [0; range(g_min, g_max, GridSize)];"
   ]
  },
  {
   "cell_type": "markdown",
   "metadata": {},
   "source": [
    "Notice that in the state_transition function, action that is in {1,...,GridSize} resulted in the same transition (u=1 in the paper). This is because the 11 states are only affected by the {on, off} decision, but not affected by the output power $g_i^t$ when the unit $i$ is on. Therefore, since the output power has no dynamics (as long as the unit is on), we regard it as a constrained input rather than a state.\n",
    "\n",
    "The function below describes the set of feasible actions $A$ for each state $s$."
   ]
  },
  {
   "cell_type": "code",
   "execution_count": 6,
   "metadata": {},
   "outputs": [],
   "source": [
    "function feasible_action_set(s::Int)\n",
    "    if s in [1,7,8,9,10,11]\n",
    "        A = 0:GridSize\n",
    "    elseif s in [2,3]\n",
    "        A = 1:GridSize\n",
    "    elseif s in [4,5,6]\n",
    "        A = 0\n",
    "    end\n",
    "    return A\n",
    "end;"
   ]
  },
  {
   "cell_type": "markdown",
   "metadata": {},
   "source": [
    "That is, the feasible action set $A(s)$ is a function of the state $s$:\n",
    "- the feasible action set can only contain $0$ for states $\\{4,5,6\\}$ (minimum down time not achieved yet; the unit cannot be truned up)\n",
    "- the feasible action set can be all possible actions $\\{0,...,GridSize\\}$ for states $\\{1,7,8,...,11\\}$.\n",
    "- the feasibile action set is $\\{1,...,GridSize\\}$ for states 2 and 3 (minimum up time not achieved yet)."
   ]
  }
 ],
 "metadata": {
  "kernelspec": {
   "display_name": "Julia 1.9.3",
   "language": "julia",
   "name": "julia-1.9"
  },
  "language_info": {
   "file_extension": ".jl",
   "mimetype": "application/julia",
   "name": "julia",
   "version": "1.9.3"
  }
 },
 "nbformat": 4,
 "nbformat_minor": 2
}
